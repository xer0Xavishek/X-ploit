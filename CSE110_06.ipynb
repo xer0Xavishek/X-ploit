{
  "nbformat": 4,
  "nbformat_minor": 0,
  "metadata": {
    "colab": {
      "provenance": [],
      "include_colab_link": true
    },
    "kernelspec": {
      "name": "python3",
      "display_name": "Python 3"
    },
    "language_info": {
      "name": "python"
    }
  },
  "cells": [
    {
      "cell_type": "markdown",
      "metadata": {
        "id": "view-in-github",
        "colab_type": "text"
      },
      "source": [
        "<a href=\"https://colab.research.google.com/github/xer0Xavishek/X-ploit/blob/main/CSE110_06.ipynb\" target=\"_parent\"><img src=\"https://colab.research.google.com/assets/colab-badge.svg\" alt=\"Open In Colab\"/></a>"
      ]
    },
    {
      "cell_type": "code",
      "execution_count": null,
      "metadata": {
        "colab": {
          "base_uri": "https://localhost:8080/"
        },
        "id": "JdfqOuei4zoR",
        "outputId": "9db0a314-5a15-44c1-a95e-0932545f115c"
      },
      "outputs": [
        {
          "output_type": "stream",
          "name": "stdout",
          "text": [
            "Hello World\n"
          ]
        }
      ],
      "source": [
        "hw = \"Hello World\"\n",
        "print( hw )"
      ]
    },
    {
      "cell_type": "code",
      "source": [
        "print(\"Hello World\")"
      ],
      "metadata": {
        "colab": {
          "base_uri": "https://localhost:8080/"
        },
        "id": "HgklDRNf-HoQ",
        "outputId": "3d814de5-872a-4bf5-cfff-56be62611763"
      },
      "execution_count": null,
      "outputs": [
        {
          "output_type": "stream",
          "name": "stdout",
          "text": [
            "Hello World\n"
          ]
        }
      ]
    },
    {
      "cell_type": "code",
      "source": [
        "print(2**(1/2))"
      ],
      "metadata": {
        "colab": {
          "base_uri": "https://localhost:8080/"
        },
        "id": "q2IRtp3qQKcq",
        "outputId": "49945cb2-95a5-4072-c41a-db85d388d065"
      },
      "execution_count": null,
      "outputs": [
        {
          "output_type": "stream",
          "name": "stdout",
          "text": [
            "1.4142135623730951\n"
          ]
        }
      ]
    },
    {
      "cell_type": "code",
      "source": [
        "x = int( input() )\n",
        "print(x)"
      ],
      "metadata": {
        "colab": {
          "base_uri": "https://localhost:8080/"
        },
        "id": "rs7Rn79HR1MN",
        "outputId": "0a7214f3-3e87-4255-c96a-91eb2251c04e"
      },
      "execution_count": null,
      "outputs": [
        {
          "output_type": "stream",
          "name": "stdout",
          "text": [
            "34\n",
            "34\n"
          ]
        }
      ]
    },
    {
      "cell_type": "code",
      "source": [
        "print(  not(3<=2) or (6>2)  )"
      ],
      "metadata": {
        "colab": {
          "base_uri": "https://localhost:8080/"
        },
        "id": "WQFniIZFDk5u",
        "outputId": "a70ec0f6-1392-4ce3-f2a0-8c716ed6e25d"
      },
      "execution_count": null,
      "outputs": [
        {
          "output_type": "stream",
          "name": "stdout",
          "text": [
            "True\n"
          ]
        }
      ]
    },
    {
      "cell_type": "code",
      "source": [
        "print(2*5/5)"
      ],
      "metadata": {
        "id": "xXTpS4qATDe7",
        "outputId": "efcb27a5-e2ed-441d-f55f-97c783f343f0",
        "colab": {
          "base_uri": "https://localhost:8080/"
        }
      },
      "execution_count": null,
      "outputs": [
        {
          "output_type": "stream",
          "name": "stdout",
          "text": [
            "2.0\n"
          ]
        }
      ]
    },
    {
      "cell_type": "code",
      "source": [
        "name = input(\"Please Enter your name: \")\n",
        "id = input(\"Please Enter your id: \")\n",
        "print(\"Name:\",name,\", ID:\",id)\n",
        "print( f\"Name: {name} , ID: {id}\" )"
      ],
      "metadata": {
        "colab": {
          "base_uri": "https://localhost:8080/"
        },
        "id": "hZHwRIZS0cI8",
        "outputId": "a99b13e4-25bc-40d9-f1f5-507f31fb273b"
      },
      "execution_count": null,
      "outputs": [
        {
          "output_type": "stream",
          "name": "stdout",
          "text": [
            "Please Enter your name: Iqra\n",
            "Please Enter your id: 12345\n",
            "Name: Iqra , ID: 12345\n",
            "Name: Iqra , ID: 12345\n"
          ]
        }
      ]
    },
    {
      "cell_type": "code",
      "source": [
        "n1 = int(input(\"Please Enter First Number: \"))\n",
        "n2 = int(input(\"Please Enter Second Number: \"))\n",
        "print( f\"{n1} / {n2} = {n1/n2}\" )"
      ],
      "metadata": {
        "colab": {
          "base_uri": "https://localhost:8080/"
        },
        "id": "1bRSqwtC10-R",
        "outputId": "645a4ccc-1035-4735-fbb8-bee279b76a2a"
      },
      "execution_count": null,
      "outputs": [
        {
          "output_type": "stream",
          "name": "stdout",
          "text": [
            "Please Enter First Number: 3\n",
            "Please Enter Second Number: 2\n",
            "3 / 2\n"
          ]
        }
      ]
    },
    {
      "cell_type": "code",
      "source": [
        "#Take an integer input from the user\n",
        "#Print the square of integer if it's a positive number\n",
        "n = int(input(\"Please Enter a Number: \"))\n",
        "if n>=0:\n",
        "    print(n**2)"
      ],
      "metadata": {
        "colab": {
          "base_uri": "https://localhost:8080/"
        },
        "id": "UZ-TsCxE4TiJ",
        "outputId": "f64a0a7a-a055-49f4-b7b6-be626d179522"
      },
      "execution_count": null,
      "outputs": [
        {
          "name": "stdout",
          "output_type": "stream",
          "text": [
            "Please Enter a Number: -7\n"
          ]
        }
      ]
    },
    {
      "cell_type": "code",
      "source": [
        "n1 = int(input(\"Please Enter First Number: \"))\n",
        "n2 = int(input(\"Please Enter Second Number: \"))\n",
        "\n",
        "if n1>=n2:\n",
        "    print(\"The largest number is\",n1)\n",
        "elif n1==n2:\n",
        "    print(\"Both numbers are equal\")\n",
        "else:\n",
        "    print(\"The largest number is\",n2)\n",
        "print(\"The End\")"
      ],
      "metadata": {
        "colab": {
          "base_uri": "https://localhost:8080/"
        },
        "id": "n92JKpAi2t6i",
        "outputId": "ace09e1f-26af-458c-cc1b-787346ddcb2b"
      },
      "execution_count": null,
      "outputs": [
        {
          "output_type": "stream",
          "name": "stdout",
          "text": [
            "Please Enter First Number: 100\n",
            "Please Enter Second Number: 100\n",
            "The largest number is 100\n",
            "Both numbers are equal\n",
            "The End\n"
          ]
        }
      ]
    },
    {
      "cell_type": "code",
      "source": [
        "x = 10 > 6 + 5 or True\n",
        "if x:\n",
        "    print('wtf')"
      ],
      "metadata": {
        "colab": {
          "base_uri": "https://localhost:8080/"
        },
        "id": "K6gFYXG7-LuE",
        "outputId": "abe4146a-b932-402d-c4ab-c84157aa6b55"
      },
      "execution_count": null,
      "outputs": [
        {
          "output_type": "stream",
          "name": "stdout",
          "text": [
            "wtf\n"
          ]
        }
      ]
    },
    {
      "cell_type": "markdown",
      "source": [
        " Take 3 inputs from the user.\\\n",
        " First two inputs are float numbers.\\\n",
        " The third input would be a symbol among the 4 math operators (+, -, *, /).\\\n",
        " Show the corresponding output depending on the symbol.\\\n",
        "Sample Input 1:\\\n",
        "5.0\\\n",
        "6.0\\\n",
        "*\\\n",
        "Sample output 1:\\\n",
        "5.0 * 6.0 = 30.0\\\n",
        "\\\n",
        "Sample Input 2:\\\n",
        "5.0\\\n",
        "2.0\\\n",
        "/\\\n",
        "Sample output 2:\\\n",
        "5.0 / 2.0 = 2.5\\"
      ],
      "metadata": {
        "id": "GeRFZj5yAQgM"
      }
    },
    {
      "cell_type": "code",
      "source": [
        "n1 = float(input())\n",
        "n2 = float(input())\n",
        "sym = input()\n",
        "\n",
        "if sym == '+':\n",
        "    print( f\"{n1} + {n2} = {n1+n2}\" )\n",
        "else:\n",
        "    print( f\"{n1} - {n2} = {n1-n2}\" )\n",
        "if sym == '*':\n",
        "    print( f\"{n1} * {n2} = {n1*n2}\" )\n",
        "else:\n",
        "    print( f\"{n1} / {n2} = {n1/n2}\" )"
      ],
      "metadata": {
        "colab": {
          "base_uri": "https://localhost:8080/"
        },
        "id": "deryfIiFAPfR",
        "outputId": "227927b6-217e-4713-d9d6-b7a4d2b6981a"
      },
      "execution_count": null,
      "outputs": [
        {
          "name": "stdout",
          "output_type": "stream",
          "text": [
            "4\n"
          ]
        }
      ]
    },
    {
      "cell_type": "code",
      "source": [
        "s1 = \"abc\"\n",
        "s2 = \"b\"\n",
        "print( s1*5 )"
      ],
      "metadata": {
        "id": "y48ZZC_EETLc",
        "colab": {
          "base_uri": "https://localhost:8080/"
        },
        "outputId": "4a864e4f-7f06-4fce-c8bb-524b78284b3d"
      },
      "execution_count": null,
      "outputs": [
        {
          "output_type": "stream",
          "name": "stdout",
          "text": [
            "abc-abc-abc-abc-abc-\n"
          ]
        }
      ]
    },
    {
      "cell_type": "code",
      "source": [
        "brand = input(\"Enter the car brand: \")\n",
        "wheel = input(\"Wheel Left or Right?: \")\n",
        "hp = int( input(\"HorsePower? : \") )\n",
        "tax = 0\n",
        "if brand == 'Ferrari':\n",
        "    tax += 30\n",
        "elif brand == 'Ford':\n",
        "    tax += 25\n",
        "if wheel == 'Left':\n",
        "    tax += 10\n",
        "if hp > 2000:\n",
        "    tax += 10\n",
        "print(f\"Extra Tax: {tax}%\")"
      ],
      "metadata": {
        "colab": {
          "base_uri": "https://localhost:8080/"
        },
        "id": "aYohoR34PMHl",
        "outputId": "4bef8af5-d7a0-4c8a-a131-ec6147d4956e"
      },
      "execution_count": null,
      "outputs": [
        {
          "output_type": "stream",
          "name": "stdout",
          "text": [
            "Enter the car brand: Ferrari\n",
            "Wheel Left or Right?: Left\n",
            "HorsePower? : 2000\n",
            "Extra Tax: 40%\n"
          ]
        }
      ]
    },
    {
      "cell_type": "code",
      "source": [
        "x = input()\n",
        "if '6' in '0123456789':\n",
        "    print(\"It's a number\")\n",
        "else:\n",
        "    print(\"Not a number\")"
      ],
      "metadata": {
        "colab": {
          "base_uri": "https://localhost:8080/"
        },
        "id": "4gy5kbKSRz1z",
        "outputId": "77ac3f7d-c279-4d22-d8dd-4fddc8c3dcce"
      },
      "execution_count": null,
      "outputs": [
        {
          "output_type": "stream",
          "name": "stdout",
          "text": [
            "6\n",
            "It's a number\n"
          ]
        }
      ]
    },
    {
      "cell_type": "code",
      "source": [
        "print('21' in '0123456789')"
      ],
      "metadata": {
        "id": "FpFfHy-VSZZU",
        "outputId": "5e704262-0a3c-4244-eed1-dd8be71ad864",
        "colab": {
          "base_uri": "https://localhost:8080/"
        }
      },
      "execution_count": null,
      "outputs": [
        {
          "output_type": "stream",
          "name": "stdout",
          "text": [
            "False\n"
          ]
        }
      ]
    },
    {
      "cell_type": "code",
      "source": [
        "i=1\n",
        "while i<=5:\n",
        "    print(i)\n",
        "    i+=1\n",
        "print(i)"
      ],
      "metadata": {
        "colab": {
          "base_uri": "https://localhost:8080/"
        },
        "id": "Tez1wb9e6u2U",
        "outputId": "a52591f5-2f14-4aa6-affe-a95365c5d2c8"
      },
      "execution_count": null,
      "outputs": [
        {
          "output_type": "stream",
          "name": "stdout",
          "text": [
            "1\n",
            "2\n",
            "3\n",
            "4\n",
            "5\n",
            "6\n"
          ]
        }
      ]
    },
    {
      "cell_type": "code",
      "source": [
        "name = input(\"Enter your name: \")\n",
        "n = int(input(\"How many times print?\"))\n",
        "i=1\n",
        "while i<n*10:\n",
        "    print(name)\n",
        "    i*=2"
      ],
      "metadata": {
        "colab": {
          "base_uri": "https://localhost:8080/"
        },
        "id": "_6uJeN3B9sfk",
        "outputId": "dba10726-cf13-4473-e9a3-533269439997"
      },
      "execution_count": null,
      "outputs": [
        {
          "output_type": "stream",
          "name": "stdout",
          "text": [
            "Enter your name: Iqra\n",
            "How many times print?2\n",
            "Iqra\n"
          ]
        }
      ]
    },
    {
      "cell_type": "code",
      "source": [
        "n = int( input(\"Enter a number: \") )\n",
        "i=1\n",
        "while i<=n:\n",
        "    print(i, end=' ')\n",
        "    i+=1"
      ],
      "metadata": {
        "colab": {
          "base_uri": "https://localhost:8080/"
        },
        "id": "QGaVJnGDA8k9",
        "outputId": "ef341377-4981-44fb-fffe-e5f31e7fd0ed"
      },
      "execution_count": null,
      "outputs": [
        {
          "output_type": "stream",
          "name": "stdout",
          "text": [
            "Enter a number: 5\n",
            "1 2 3 4 5 "
          ]
        }
      ]
    },
    {
      "cell_type": "code",
      "source": [
        "i=1\n",
        "while i<=100:\n",
        "    if i%7==0 or i%3==0:\n",
        "        print(i, end=' ')\n",
        "    i+=1"
      ],
      "metadata": {
        "id": "DEwW0kcyDK3j"
      },
      "execution_count": null,
      "outputs": []
    },
    {
      "cell_type": "code",
      "source": [
        "i=1\n",
        "while i<=100:\n",
        "    if i%2==0:\n",
        "        print(\"Even\",i)\n",
        "    else:\n",
        "        print(\"Odd\",i)\n",
        "    i+=1\n"
      ],
      "metadata": {
        "id": "K5BSsLNWFZkp"
      },
      "execution_count": null,
      "outputs": []
    },
    {
      "cell_type": "code",
      "source": [
        "print(7%3)\n",
        "print(-7%-3)\n",
        "print(-7%3)\n",
        "print(7%-3)"
      ],
      "metadata": {
        "colab": {
          "base_uri": "https://localhost:8080/"
        },
        "id": "n53D9F0hG8e9",
        "outputId": "d6a65231-47c5-46e9-81ff-188a018b31cd"
      },
      "execution_count": null,
      "outputs": [
        {
          "output_type": "stream",
          "name": "stdout",
          "text": [
            "1\n",
            "-1\n",
            "2\n",
            "-2\n"
          ]
        }
      ]
    },
    {
      "cell_type": "code",
      "source": [
        "n= int(input())\n",
        "if (n%5==0 or n%7==0) and not(n%5==0 and n%7==0):\n",
        "    print('Yes')\n",
        "else:\n",
        "    print('No')"
      ],
      "metadata": {
        "colab": {
          "base_uri": "https://localhost:8080/"
        },
        "id": "hFqcyZToSH8Z",
        "outputId": "5c1ae282-f381-4f9e-dd7e-319a684e65ce"
      },
      "execution_count": null,
      "outputs": [
        {
          "output_type": "stream",
          "name": "stdout",
          "text": [
            "25\n",
            "Yes\n"
          ]
        }
      ]
    },
    {
      "cell_type": "code",
      "source": [
        "x = float('inf')\n",
        "print(x)\n",
        "x = float('-inf')\n",
        "print(x)"
      ],
      "metadata": {
        "colab": {
          "base_uri": "https://localhost:8080/"
        },
        "id": "mw08HAFSYAR8",
        "outputId": "34a7e44f-f364-4385-dbf2-04f10346dd3e"
      },
      "execution_count": null,
      "outputs": [
        {
          "output_type": "stream",
          "name": "stdout",
          "text": [
            "inf\n",
            "-inf\n"
          ]
        }
      ]
    },
    {
      "cell_type": "code",
      "source": [
        "# 1 5 4 10 7 15 10 20 13 25 16 30 ..........\n",
        "n=12\n",
        "i=1\n",
        "j=1\n",
        "k=5\n",
        "while i<=n:\n",
        "    if i%2==0:\n",
        "        print(k,end=' ')\n",
        "        k+=5\n",
        "    else:\n",
        "        print(j,end=' ')\n",
        "        j+=3\n",
        "    i+=1\n",
        "print()"
      ],
      "metadata": {
        "colab": {
          "base_uri": "https://localhost:8080/"
        },
        "id": "ZgoxH9fbjQ3Q",
        "outputId": "cca8916f-ac08-41c7-f9ba-37ddfee95cde"
      },
      "execution_count": null,
      "outputs": [
        {
          "output_type": "stream",
          "name": "stdout",
          "text": [
            "1 5 4 10 7 15 10 20 13 25 16 30 \n"
          ]
        }
      ]
    },
    {
      "cell_type": "code",
      "source": [
        "# Take 5 integer inputs from the user to find the maximum value among them\n",
        "max = int(input())\n",
        "i=0\n",
        "while i<4:\n",
        "    x = int(input())\n",
        "    if x > max:\n",
        "        max = x\n",
        "    i+=1\n",
        "print('The Maximum number is:',max)"
      ],
      "metadata": {
        "colab": {
          "base_uri": "https://localhost:8080/"
        },
        "id": "a7wOB4uQkPDp",
        "outputId": "c8b77892-c187-4242-b3ba-92afeed24b0a"
      },
      "execution_count": null,
      "outputs": [
        {
          "output_type": "stream",
          "name": "stdout",
          "text": [
            "4\n",
            "9\n",
            "10\n",
            "-2\n",
            "4\n",
            "The Maximum number is: 10\n"
          ]
        }
      ]
    },
    {
      "cell_type": "code",
      "source": [
        "# Take 5 integer inputs from the user to find the maximum value among them\n",
        "min = int(input())\n",
        "i=0\n",
        "while i<4:\n",
        "    x = int(input())\n",
        "    if x < min:\n",
        "        min = x\n",
        "    i+=1\n",
        "print('The Minimum number is:',min)"
      ],
      "metadata": {
        "colab": {
          "base_uri": "https://localhost:8080/"
        },
        "id": "qy2EvDPYoV92",
        "outputId": "d06f7c34-f30d-414a-be40-2daa2950f677"
      },
      "execution_count": null,
      "outputs": [
        {
          "output_type": "stream",
          "name": "stdout",
          "text": [
            "43\n",
            "-43\n",
            "0\n",
            "3\n",
            "-30\n",
            "The Minimum number is: -43\n"
          ]
        }
      ]
    },
    {
      "cell_type": "code",
      "source": [
        "cred = int(input())\n",
        "cg = float(input())\n",
        "fee = cred*8000\n",
        "sch = 0\n",
        "if cg==4.0:\n",
        "    sch = 100\n",
        "elif cg>=3.9:\n",
        "    sch = 75\n",
        "elif cg>=3.85:\n",
        "    sch = 25\n",
        "elif cg>=3.8:\n",
        "    sch = 10\n",
        "print(fee)\n",
        "print(fee-fee*sch/100)"
      ],
      "metadata": {
        "id": "tbFckiFcCpV3"
      },
      "execution_count": null,
      "outputs": []
    },
    {
      "cell_type": "code",
      "source": [
        "i=10\n",
        "while i<50:\n",
        "    print(i,end=\" \")\n",
        "    i-=10"
      ],
      "metadata": {
        "colab": {
          "base_uri": "https://localhost:8080/"
        },
        "id": "KULDjQRIGH0W",
        "outputId": "561ca5e7-8195-49a4-fa83-41b1330d8684"
      },
      "execution_count": null,
      "outputs": [
        {
          "output_type": "stream",
          "name": "stdout",
          "text": [
            "10 "
          ]
        }
      ]
    },
    {
      "cell_type": "code",
      "source": [
        "for i in range(1,21,1):\n",
        "    if i%2==0:\n",
        "        print(i,end=' ')"
      ],
      "metadata": {
        "colab": {
          "base_uri": "https://localhost:8080/"
        },
        "id": "WCk16tOBD_Nd",
        "outputId": "4f08c030-5f34-4fae-bcf5-43d126e5d57c"
      },
      "execution_count": null,
      "outputs": [
        {
          "output_type": "stream",
          "name": "stdout",
          "text": [
            "2 4 6 8 10 12 14 16 18 20 "
          ]
        }
      ]
    },
    {
      "cell_type": "code",
      "source": [
        "x = float(\"-inf\")\n",
        "print(x)"
      ],
      "metadata": {
        "colab": {
          "base_uri": "https://localhost:8080/"
        },
        "id": "SbnDSJYMJBQq",
        "outputId": "8cf28443-2fe9-485c-914e-fb847bb9ab7b"
      },
      "execution_count": null,
      "outputs": [
        {
          "output_type": "stream",
          "name": "stdout",
          "text": [
            "True\n"
          ]
        }
      ]
    },
    {
      "cell_type": "code",
      "source": [
        "n = int(input(\"How many numbers to take input? \"))\n",
        "for i in range(n):\n",
        "    x = int(input())\n",
        "    if x%2==0:\n",
        "        break\n",
        "print(\"The end\")"
      ],
      "metadata": {
        "colab": {
          "base_uri": "https://localhost:8080/"
        },
        "id": "QoZ2KZ06Pm5u",
        "outputId": "fb77f523-6a6d-4b0c-e319-7d92d6208fec"
      },
      "execution_count": null,
      "outputs": [
        {
          "output_type": "stream",
          "name": "stdout",
          "text": [
            "How many numbers to take input? 5\n",
            "34\n",
            "The end\n"
          ]
        }
      ]
    },
    {
      "cell_type": "markdown",
      "source": [
        "Take 10 inputs from the user and print their summation.\n",
        "While summing up the input value if the summation turns into an even number you'll stop taking inputs and print the summation. Otherwise, print the summation after taking 10 inputs."
      ],
      "metadata": {
        "id": "FMoVqtBDTm5r"
      }
    },
    {
      "cell_type": "code",
      "source": [
        "sum = 0\n",
        "for i in range(10):\n",
        "    x = int(input())\n",
        "    if x%2==0:\n",
        "        continue\n",
        "        print(\"Even\")\n",
        "    else:\n",
        "        print(\"Odd\")"
      ],
      "metadata": {
        "id": "OY0qSeW2TqdQ"
      },
      "execution_count": null,
      "outputs": []
    },
    {
      "cell_type": "markdown",
      "source": [
        "Take one input from the user. Find all divisors of the user input."
      ],
      "metadata": {
        "id": "RlxUiddnWfaP"
      }
    },
    {
      "cell_type": "code",
      "source": [
        "n = int(input())\n",
        "#for i in range(1,n+1):\n",
        "    if n%i==0:\n",
        "        print(i, end=' ')"
      ],
      "metadata": {
        "colab": {
          "base_uri": "https://localhost:8080/"
        },
        "id": "P5DTtDW3Wcqg",
        "outputId": "f9616096-1c09-4921-ee23-5bd044852eef"
      },
      "execution_count": null,
      "outputs": [
        {
          "output_type": "stream",
          "name": "stdout",
          "text": [
            "5\n",
            "1 5 "
          ]
        }
      ]
    },
    {
      "cell_type": "code",
      "source": [
        "s = \"Python Fun\"\n",
        "for i in range(len(s)):\n",
        "    print(i, s[i])"
      ],
      "metadata": {
        "colab": {
          "base_uri": "https://localhost:8080/"
        },
        "id": "tG-fxmDCQM9_",
        "outputId": "83f36b9a-7481-48c9-c8a3-136ee479cb13"
      },
      "execution_count": null,
      "outputs": [
        {
          "output_type": "stream",
          "name": "stdout",
          "text": [
            "0 P\n",
            "1 y\n",
            "2 t\n",
            "3 h\n",
            "4 o\n",
            "5 n\n",
            "6  \n",
            "7 F\n",
            "8 u\n",
            "9 n\n"
          ]
        }
      ]
    },
    {
      "cell_type": "markdown",
      "source": [
        "Take a string input from the user and print only the characters in the odd indices of the string."
      ],
      "metadata": {
        "id": "o2T-FEPiWQ1i"
      }
    },
    {
      "cell_type": "code",
      "source": [
        "s = input()\n",
        "for i in range(len(s)):\n",
        "    if i%2==1:\n",
        "        print(s[i],end='')"
      ],
      "metadata": {
        "colab": {
          "base_uri": "https://localhost:8080/"
        },
        "id": "ldl5fMbyWdzb",
        "outputId": "4ace1ab3-700b-41d5-b367-a1553d0f8fc9"
      },
      "execution_count": null,
      "outputs": [
        {
          "name": "stdout",
          "output_type": "stream",
          "text": [
            "Python\n"
          ]
        }
      ]
    },
    {
      "cell_type": "code",
      "source": [
        "s = input()\n",
        "for i in range(1,len(s),2):\n",
        "    print(s[i],end='')"
      ],
      "metadata": {
        "colab": {
          "base_uri": "https://localhost:8080/"
        },
        "id": "k8YmjBnnYtSD",
        "outputId": "50bf1bd9-e810-41b7-92ca-467427292fb9"
      },
      "execution_count": null,
      "outputs": [
        {
          "output_type": "stream",
          "name": "stdout",
          "text": [
            "Python\n",
            "yhn"
          ]
        }
      ]
    },
    {
      "cell_type": "code",
      "source": [
        "#     0123456789\n",
        "s =  \"Python Fun\"\n",
        "#neg 10987654321\n",
        "print( s[::-1] )"
      ],
      "metadata": {
        "colab": {
          "base_uri": "https://localhost:8080/"
        },
        "id": "HtNGEZvFc55U",
        "outputId": "7d6cd69a-132e-4f23-9d4a-01a533454a03"
      },
      "execution_count": null,
      "outputs": [
        {
          "output_type": "stream",
          "name": "stdout",
          "text": [
            "nuF nohtyP\n"
          ]
        }
      ]
    },
    {
      "cell_type": "code",
      "source": [
        "l = [50,25,90,60,1005,12,30]\n",
        "\n",
        "for n in l:\n",
        "    print(f\"Divisors of {n}\",end=': ')\n",
        "    for i in range(1,n+1,1):\n",
        "        if n%i==0:\n",
        "            print(i,end=',')\n",
        "    print(chr(8))"
      ],
      "metadata": {
        "colab": {
          "base_uri": "https://localhost:8080/"
        },
        "id": "jlZflQQhtgtk",
        "outputId": "dd8f22f0-295f-466d-fd13-58493056e571"
      },
      "execution_count": null,
      "outputs": [
        {
          "output_type": "stream",
          "name": "stdout",
          "text": [
            "Divisors of 50: 1,2,5,10,25,50,\b\n",
            "Divisors of 25: 1,5,25,\b\n",
            "Divisors of 90: 1,2,3,5,6,9,10,15,18,30,45,90,\b\n",
            "Divisors of 60: 1,2,3,4,5,6,10,12,15,20,30,60,\b\n",
            "Divisors of 1005: 1,3,5,15,67,201,335,1005,\b\n",
            "Divisors of 12: 1,2,3,4,6,12,\b\n",
            "Divisors of 30: 1,2,3,5,6,10,15,30,\b\n"
          ]
        }
      ]
    },
    {
      "cell_type": "code",
      "source": [
        "print(123,end='\\n')\n",
        "print()\n",
        "print(13,end='')\n",
        "print()\n",
        "print(23,end='')\n",
        "print(3,end='')\n",
        "print(1,end='')\n"
      ],
      "metadata": {
        "colab": {
          "base_uri": "https://localhost:8080/"
        },
        "id": "7e7vB2cNCsI5",
        "outputId": "56dfff29-d564-4b92-a8ce-79e316a9b627"
      },
      "execution_count": null,
      "outputs": [
        {
          "output_type": "stream",
          "name": "stdout",
          "text": [
            "123\n",
            "\n",
            "13\n",
            "2331"
          ]
        }
      ]
    },
    {
      "cell_type": "code",
      "source": [
        "s = input()\n",
        "up=0\n",
        "for i in range(len(s)):\n",
        "    if ord(\"0\") <= ord(s[i]) <= ord(\"9\"):\n",
        "        up+=1\n",
        "print(up)"
      ],
      "metadata": {
        "colab": {
          "base_uri": "https://localhost:8080/"
        },
        "id": "Sh6kakNEo-N3",
        "outputId": "2831cd64-316e-4fba-ac5f-f6b661f378fd"
      },
      "execution_count": null,
      "outputs": [
        {
          "output_type": "stream",
          "name": "stdout",
          "text": [
            "JDS34sd\n",
            "3\n"
          ]
        }
      ]
    },
    {
      "cell_type": "code",
      "source": [
        "print(\"Pyhton\"+chr(8))"
      ],
      "metadata": {
        "colab": {
          "base_uri": "https://localhost:8080/"
        },
        "id": "4FasRnzcp0WH",
        "outputId": "5ee57564-3b4e-4716-da8a-c5d4a0560f49"
      },
      "execution_count": null,
      "outputs": [
        {
          "output_type": "stream",
          "name": "stdout",
          "text": [
            "\b\n"
          ]
        }
      ]
    },
    {
      "cell_type": "code",
      "source": [
        "#Write a python program to find whether a user input contains \"S\" or not.\n",
        "x = input()\n",
        "if \"S\" in x:\n",
        "    print(\"Yes\")\n",
        "else:\n",
        "    print(\"No\")"
      ],
      "metadata": {
        "colab": {
          "base_uri": "https://localhost:8080/"
        },
        "id": "bqS0SMabU5iI",
        "outputId": "176c6cee-6b92-43fe-e61a-2ef15c401b91"
      },
      "execution_count": null,
      "outputs": [
        {
          "output_type": "stream",
          "name": "stdout",
          "text": [
            "grdfdS\n",
            "Yes\n"
          ]
        }
      ]
    },
    {
      "cell_type": "code",
      "source": [
        "#Write a python program to extract the vowels from a string and print it.\n",
        "s=\"dsaeifkInldU\"\n",
        "out=''\n",
        "for i in range(len(s)):\n",
        "    if s[i] in \"aeiouAEIOU\":\n",
        "        out += s[i]\n",
        "print(out)"
      ],
      "metadata": {
        "colab": {
          "base_uri": "https://localhost:8080/"
        },
        "id": "vw0sgOkxr2JN",
        "outputId": "43de1d8f-2374-407c-bc80-9ad4b3977c88"
      },
      "execution_count": null,
      "outputs": [
        {
          "output_type": "stream",
          "name": "stdout",
          "text": [
            "aeiIU\n"
          ]
        }
      ]
    },
    {
      "cell_type": "code",
      "source": [
        "s=\"ABCD, efgh\"\n",
        "out1=\"\"\n",
        "out2=\"\"\n",
        "found = False\n",
        "for i in range(len(s)):\n",
        "    if s[i]==',':\n",
        "        found=True\n",
        "    elif not found:\n",
        "        out1+=s[i]\n",
        "    elif s[i]!=' ':\n",
        "        out2+=s[i]\n",
        "print(out1)\n",
        "print(out1)"
      ],
      "metadata": {
        "colab": {
          "base_uri": "https://localhost:8080/"
        },
        "id": "5Uf4bzGoa721",
        "outputId": "9f93d3f2-cdf1-4c72-b81b-384f18b5919c"
      },
      "execution_count": null,
      "outputs": [
        {
          "output_type": "stream",
          "name": "stdout",
          "text": [
            "ABCD\n",
            "efgh\n"
          ]
        }
      ]
    },
    {
      "cell_type": "code",
      "source": [
        "#Lab 1 - I/O\n",
        "#Lab 2 - Branching\n",
        "\n",
        "#Lab 3 - Loop [ while / for ]\n",
        "#Lab 4 - String [ indexing, slicing, loop, ASCII, in, newString ]\n",
        "\n",
        "# CODING\n",
        "# TRACING [ marking the loop, trace table, precedence, %, //, break, continue ]"
      ],
      "metadata": {
        "id": "h43rH3h1gmRZ"
      },
      "execution_count": null,
      "outputs": []
    },
    {
      "cell_type": "markdown",
      "source": [
        "## After Mid\n",
        "### Functions"
      ],
      "metadata": {
        "id": "UwWF4KQAtZgg"
      }
    },
    {
      "cell_type": "code",
      "source": [
        "#functin definition\n",
        "def addTwo(x,y): #2 #5\n",
        "    print(x+y) #3 #6\n",
        "#Fucniton Calling\n",
        "addTwo(8,15) #1\n",
        "addTwo(10,54) #4\n",
        "#The #1, #2, #3 are sequence of code execution"
      ],
      "metadata": {
        "colab": {
          "base_uri": "https://localhost:8080/"
        },
        "id": "KgF_57eHKx12",
        "outputId": "4c9b26c7-9ebf-4bc5-b7da-e71e4a6d58ea"
      },
      "execution_count": null,
      "outputs": [
        {
          "output_type": "stream",
          "name": "stdout",
          "text": [
            "23\n",
            "64\n"
          ]
        }
      ]
    },
    {
      "cell_type": "markdown",
      "source": [
        "Using Return statements"
      ],
      "metadata": {
        "id": "txD2nAVTxnzU"
      }
    },
    {
      "cell_type": "code",
      "source": [
        "#The #1, #2, ..... #6 are sequence of code execution\n",
        "#the following function returns the square if the parameter's number is even otherwise returns cube\n",
        "def calc(x):#2\n",
        "    if x%2==0: #3\n",
        "        return x**2 #4\n",
        "    else:\n",
        "        return x**3\n",
        "# since the function is returning something we can store the returned value\n",
        "# after storing the returned value we can use it to further calculate something else as well\n",
        "n = calc(6) #1 #5 #In this line 36 is being returned and it's being stored in n variable\n",
        "print(n) #6\n",
        "print(n+4) #7"
      ],
      "metadata": {
        "colab": {
          "base_uri": "https://localhost:8080/"
        },
        "id": "GOEtch1sxoTA",
        "outputId": "0ce67385-33da-4e32-b64f-d7d9a886f294"
      },
      "execution_count": null,
      "outputs": [
        {
          "output_type": "stream",
          "name": "stdout",
          "text": [
            "36\n",
            "40\n"
          ]
        }
      ]
    },
    {
      "cell_type": "markdown",
      "source": [
        "A function always returns in order to exit from the function. Even if we don't explicitely don't mention returning, by default function will return None."
      ],
      "metadata": {
        "id": "mqAey-WEtgv1"
      }
    },
    {
      "cell_type": "code",
      "source": [
        "#The #1, #2, #3, #4 ..... #21 are sequence of code execution\n",
        "# \"#1\" means this line will be executed first, #2 means it'll be executed second.. etc etc.\n",
        "#functin definition\n",
        "def even_or_odd(n):   #2 | #8 | #15\n",
        "    if n%2==0:        #3 | #9 | #16\n",
        "        print(\"even\") #4 |\n",
        "    else:             #10| #14| #17\n",
        "        print(\"odd\")  #11| #15| #18\n",
        "    #return None      #5 | #12| #19   #This line is invisible!!\n",
        "#Fucniton Calling\n",
        "even_or_odd(26)       #1 | #6 |\n",
        "even_or_odd(29)       #7 | #13|\n",
        "# In the following line the retunred None is being stored in x\n",
        "x = even_or_odd(29)   #14| #16 | #20\n",
        "print(x)#                      | #21"
      ],
      "metadata": {
        "colab": {
          "base_uri": "https://localhost:8080/"
        },
        "id": "HiMs-Cd8s7FR",
        "outputId": "b9244012-7631-4160-e7fe-15999a5d00c9"
      },
      "execution_count": null,
      "outputs": [
        {
          "output_type": "stream",
          "name": "stdout",
          "text": [
            "even\n",
            "odd\n",
            "odd\n",
            "None\n"
          ]
        }
      ]
    },
    {
      "cell_type": "markdown",
      "source": [
        "Calling one function inside another function"
      ],
      "metadata": {
        "id": "xL59bXUfyxl2"
      }
    },
    {
      "cell_type": "code",
      "source": [
        "#The #1, #2, ..... #11 are sequence of code execution\n",
        "#the following function returns the True if the parameter's number is even otherwise returns false\n",
        "def is_even(n): #4\n",
        "    if n%2==0:  #5\n",
        "        return True #6\n",
        "    else:\n",
        "        return False\n",
        "def new_calc(x):#2\n",
        "    if is_even(x)==True: #3 #7 #In this line is_even() function is returning True\n",
        "        return x**2 #8\n",
        "    else:\n",
        "        return x**3\n",
        "val = new_calc(6) #1 #9\n",
        "print(val) #10\n",
        "print(val+4) #11"
      ],
      "metadata": {
        "colab": {
          "base_uri": "https://localhost:8080/"
        },
        "id": "Cgk81dNcy062",
        "outputId": "e13a85fb-68ee-4364-ae09-4243bfa2ea65"
      },
      "execution_count": null,
      "outputs": [
        {
          "output_type": "stream",
          "name": "stdout",
          "text": [
            "36\n",
            "40\n"
          ]
        }
      ]
    },
    {
      "cell_type": "code",
      "source": [
        "def make_power(num, power): #6 #15 #24\n",
        "    result = num ** power #7 #16 #25\n",
        "    return result #8 #17 #26\n",
        "\n",
        "def make_cube(num): #4 #13 #22\n",
        "    result = make_power(num, 3) #5 #9 #14 #18 #23 #27\n",
        "    return result #10 #19 #28\n",
        "\n",
        "def sum_up(num1, num2, num3): #2\n",
        "    s1 = make_cube(num1) #3 #11\n",
        "    s2 = make_cube(num2) #12 #20\n",
        "    s3 = make_cube(num3) #21 #29\n",
        "    return s1 + s2 + s3 #30\n",
        "\n",
        "print(sum_up(1, 2, 3)) #1 #31"
      ],
      "metadata": {
        "colab": {
          "base_uri": "https://localhost:8080/"
        },
        "id": "znAmqvGr3gNb",
        "outputId": "3f51370a-a606-4308-9bf9-60bc699c0d07"
      },
      "execution_count": null,
      "outputs": [
        {
          "output_type": "stream",
          "name": "stdout",
          "text": [
            "36\n"
          ]
        }
      ]
    },
    {
      "cell_type": "markdown",
      "source": [
        "Global and Local Scopes"
      ],
      "metadata": {
        "id": "QVnqDRZx2GA7"
      }
    },
    {
      "cell_type": "code",
      "source": [
        "#s=50 has falls under the global scope of the whole code\n",
        "#the s inside the function falls under the local scope of the function\n",
        "s=50 #Global Variable s has value of 50\n",
        "def sum(a,b):\n",
        "    #a,b,s are local variables inside the function\n",
        "    #a,b,s are destroyed once the function ends\n",
        "    s = a+b\n",
        "    print(s)\n",
        "sum(2,5)\n",
        "print(s)"
      ],
      "metadata": {
        "colab": {
          "base_uri": "https://localhost:8080/"
        },
        "id": "6UD5CaFh2H7B",
        "outputId": "f68063e8-d788-486c-9757-051dec277e12"
      },
      "execution_count": null,
      "outputs": [
        {
          "output_type": "stream",
          "name": "stdout",
          "text": [
            "7\n",
            "50\n"
          ]
        }
      ]
    },
    {
      "cell_type": "markdown",
      "source": [
        "Recursion"
      ],
      "metadata": {
        "id": "J7N6PW6P2IWk"
      }
    },
    {
      "cell_type": "code",
      "source": [
        "print('Using Loop')\n",
        "i=1\n",
        "while i<=10:\n",
        "    print(i)\n",
        "    i+=1\n",
        "print('Using Recursion')\n",
        "def show1to10(i):\n",
        "    #Base Case\n",
        "    if i>10:\n",
        "        return\n",
        "    #Recursive Case\n",
        "    else:\n",
        "        print(i)\n",
        "        show1to10(i+1)\n",
        "show1to10(1)"
      ],
      "metadata": {
        "id": "s5PlIcteGa8Y"
      },
      "execution_count": null,
      "outputs": []
    },
    {
      "cell_type": "code",
      "source": [
        "def show10to1(i):\n",
        "    #Base Case\n",
        "    if i==0:\n",
        "        return\n",
        "    #Recursive Case\n",
        "    else:\n",
        "        print(i)\n",
        "        show10to1(i-1)\n",
        "show10to1(10)"
      ],
      "metadata": {
        "colab": {
          "base_uri": "https://localhost:8080/"
        },
        "id": "ROqWuugjR3ec",
        "outputId": "8b0a5b5a-77d6-4aff-8ed6-cc3ffca4931f"
      },
      "execution_count": null,
      "outputs": [
        {
          "output_type": "stream",
          "name": "stdout",
          "text": [
            "10\n",
            "9\n",
            "8\n",
            "7\n",
            "6\n",
            "5\n",
            "4\n",
            "3\n",
            "2\n",
            "1\n"
          ]
        }
      ]
    },
    {
      "cell_type": "code",
      "source": [
        "def show_N_to_1(n):\n",
        "    if n==0:\n",
        "        return\n",
        "    else:\n",
        "        print(n,end=' ')\n",
        "        show_N_to_1(n-1)\n",
        "n=int(input())\n",
        "show_N_to_1(n)"
      ],
      "metadata": {
        "id": "uB5SaJo1SIPi"
      },
      "execution_count": null,
      "outputs": []
    },
    {
      "cell_type": "code",
      "source": [
        "print(\"Using Loop\")\n",
        "#1+2+3+4+5+6+7+8+9+10+.....+N\n",
        "N=int(input())\n",
        "sum=0\n",
        "i=1\n",
        "while i<=N:\n",
        "    sum+=i\n",
        "    i+=1\n",
        "print(sum)\n",
        "\n",
        "print(\"Using Recursion\")\n",
        "#1+2+3+4+5+6+7+8+9+10+.....+n\n",
        "#1+sum(2,n)\n",
        "#1+2+sum(3,n)\n",
        "#1+2+3+sum(4,n)\n",
        "def sum1toN(i,n):\n",
        "    if i==n:\n",
        "        return n\n",
        "    else:\n",
        "        return i+sum1toN(i+1, n)\n",
        "n = int(input())\n",
        "x=sum1toN(1,n)\n",
        "print(x)"
      ],
      "metadata": {
        "id": "fljbydwXDxv3"
      },
      "execution_count": null,
      "outputs": []
    },
    {
      "cell_type": "markdown",
      "source": [
        "[Factorial Recursion Slide](https://docs.google.com/presentation/d/1AIx9x36AWPxbuMstqqsipertBPBE-SIxgLQd-Sp6lOU/edit#slide=id.g27f752b020e_2_0)"
      ],
      "metadata": {
        "id": "uhi80A4kT0pa"
      }
    },
    {
      "cell_type": "code",
      "source": [
        "def fact(n):\n",
        "    if n==0 or n==1:\n",
        "        return 1\n",
        "    else:\n",
        "        return n*fact(n-1)\n",
        "\n",
        "print( fact(4) )"
      ],
      "metadata": {
        "id": "JRd9s6Lm2I3q"
      },
      "execution_count": null,
      "outputs": []
    },
    {
      "cell_type": "code",
      "source": [
        "def pal(n):\n",
        "    for i in range(1,n+1):\n",
        "        print(i,end='')\n",
        "    for i in range(n-1,0,-1):\n",
        "        print(i,end='')\n",
        "\n",
        "def tri_pal(n):\n",
        "    for i in range(1,n+1):\n",
        "        print(\"*\"*(n-i),end='')\n",
        "        pal(i)\n",
        "        print(\"*\"*(n-i),end='')\n",
        "        print()\n",
        "\n",
        "tri_pal(5)"
      ],
      "metadata": {
        "colab": {
          "base_uri": "https://localhost:8080/"
        },
        "id": "PFu7a__F-BaA",
        "outputId": "2ee88a79-9b9d-44a0-b4d8-5c0965c9c72e"
      },
      "execution_count": null,
      "outputs": [
        {
          "output_type": "stream",
          "name": "stdout",
          "text": [
            "****1****\n",
            "***121***\n",
            "**12321**\n",
            "*1234321*\n",
            "123454321\n"
          ]
        }
      ]
    }
  ]
}